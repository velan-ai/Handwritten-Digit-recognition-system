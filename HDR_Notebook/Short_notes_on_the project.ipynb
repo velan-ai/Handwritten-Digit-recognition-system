{
 "cells": [
  {
   "metadata": {},
   "cell_type": "markdown",
   "source": "Importing the libraries",
   "id": "6970426b25fe6f35"
  },
  {
   "metadata": {
    "ExecuteTime": {
     "end_time": "2024-12-26T12:42:42.318709Z",
     "start_time": "2024-12-26T12:42:32.369893Z"
    }
   },
   "cell_type": "code",
   "source": [
    "import os\n",
    "import cv2\n",
    "import numpy as np\n",
    "import matplotlib.pyplot as plt\n",
    "import tensorflow as tf"
   ],
   "id": "1290170f7f0aec70",
   "outputs": [],
   "execution_count": 2
  },
  {
   "metadata": {},
   "cell_type": "markdown",
   "source": [
    "## Image Preprocessing\n",
    "\n",
    "Here we have the following datasets\n",
    "\n",
    "1. Binary Images\n",
    "2. Colored digits\n",
    "3. Digits with ruled background\n",
    "4. Digts with ruled background having varied light conditions"
   ],
   "id": "38fdee2d9b1be9c"
  },
  {
   "metadata": {},
   "cell_type": "code",
   "outputs": [],
   "execution_count": null,
   "source": "",
   "id": "9fa344c99ac815a3"
  }
 ],
 "metadata": {
  "kernelspec": {
   "display_name": "Python 3",
   "language": "python",
   "name": "python3"
  },
  "language_info": {
   "codemirror_mode": {
    "name": "ipython",
    "version": 2
   },
   "file_extension": ".py",
   "mimetype": "text/x-python",
   "name": "python",
   "nbconvert_exporter": "python",
   "pygments_lexer": "ipython2",
   "version": "2.7.6"
  }
 },
 "nbformat": 4,
 "nbformat_minor": 5
}
